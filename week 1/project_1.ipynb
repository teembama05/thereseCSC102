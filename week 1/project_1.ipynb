{
 "cells": [
  {
   "cell_type": "code",
   "execution_count": null,
   "id": "69c48763",
   "metadata": {},
   "outputs": [],
   "source": [
    "print(\"Welcome to the interest calculator\")\n",
    "print(\"Enter 1 for Simple Interest, 2 for Compund Interest and 3 for Annuity Plan\")\n",
    "a = str(input(\"What would you like to calculate:  \"))\n",
    "\n",
    "# Simple Interest\n",
    "if a == \"1\":\n",
    "    p = float(input(\"Enter the principal value:\"))\n",
    "    r = float(input(\"Enter the rate value:\"))\n",
    "    t = float(input(\"Enter the time value:\"))\n",
    "    y = r/100\n",
    "    k = y*t\n",
    "    s = p*(1 + (y*t))\n",
    "    print(\"The Simple Interest is\",s)\n",
    "\n",
    "# Compound Interest\n",
    "elif a == \"2\":\n",
    "    p = float(input(\"Enter the principal value:\"))\n",
    "    r = float(input(\"Enter the rate value:\"))\n",
    "    n = float(input(\"Enter the n value:\"))\n",
    "    t = float(input(\"Enter the time value:\"))\n",
    "    y = r/n\n",
    "    v = n*t\n",
    "    c = p*((1 + y)**v)\n",
    "    print(\"The Compound Interest is\",c)\n",
    "\n",
    "# Annuity plan\n",
    "elif a == \"3\":\n",
    "    p = float(input(\"Enter the PMT value:\"))\n",
    "    r = float(input(\"Enter the rate value:\"))\n",
    "    n = float(input(\"Enter the n value:\"))\n",
    "    t = float(input(\"Enter the time value:\"))\n",
    "    b = r/n\n",
    "    c = n*t\n",
    "    d = (1 + b)**c\n",
    "    e = p * ((d - 1)/b)\n",
    "    print(\"The Annuity Plan is\",e)\n",
    "else:\n",
    "    print('This cannot be calculated with this program.')\n"
   ]
  },
  {
   "cell_type": "code",
   "execution_count": null,
   "id": "096071fb",
   "metadata": {},
   "outputs": [],
   "source": []
  },
  {
   "cell_type": "code",
   "execution_count": null,
   "id": "c1e1b722",
   "metadata": {},
   "outputs": [],
   "source": []
  }
 ],
 "metadata": {
  "kernelspec": {
   "display_name": "Python 3 (ipykernel)",
   "language": "python",
   "name": "python3"
  },
  "language_info": {
   "codemirror_mode": {
    "name": "ipython",
    "version": 3
   },
   "file_extension": ".py",
   "mimetype": "text/x-python",
   "name": "python",
   "nbconvert_exporter": "python",
   "pygments_lexer": "ipython3",
   "version": "3.10.9"
  }
 },
 "nbformat": 4,
 "nbformat_minor": 5
}
