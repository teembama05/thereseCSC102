{
 "cells": [
  {
   "cell_type": "code",
   "execution_count": 14,
   "id": "895d8cb4",
   "metadata": {},
   "outputs": [
    {
     "name": "stdout",
     "output_type": "stream",
     "text": [
      "NAME |AGE |HEIGHT |SCORE\n"
     ]
    },
    {
     "ename": "TypeError",
     "evalue": "'set' object is not subscriptable",
     "output_type": "error",
     "traceback": [
      "\u001b[1;31m---------------------------------------------------------------------------\u001b[0m",
      "\u001b[1;31mTypeError\u001b[0m                                 Traceback (most recent call last)",
      "Cell \u001b[1;32mIn[14], line 20\u001b[0m\n\u001b[0;32m     17\u001b[0m \u001b[38;5;28mprint\u001b[39m(\u001b[38;5;124m\"\u001b[39m\u001b[38;5;124mNAME |AGE |HEIGHT |SCORE\u001b[39m\u001b[38;5;124m\"\u001b[39m)\n\u001b[0;32m     19\u001b[0m \u001b[38;5;28;01mfor\u001b[39;00m i \u001b[38;5;129;01min\u001b[39;00m \u001b[38;5;28mrange\u001b[39m(\u001b[38;5;28mlen\u001b[39m(gname)):\n\u001b[1;32m---> 20\u001b[0m     \u001b[38;5;28mprint\u001b[39m(\u001b[43mgname\u001b[49m\u001b[43m[\u001b[49m\u001b[43mi\u001b[49m\u001b[43m]\u001b[49m, \u001b[38;5;124m\"\u001b[39m\u001b[38;5;124m|\u001b[39m\u001b[38;5;124m\"\u001b[39m, gage[i], \u001b[38;5;124m\"\u001b[39m\u001b[38;5;124m|\u001b[39m\u001b[38;5;124m\"\u001b[39m,gheight[i], \u001b[38;5;124m\"\u001b[39m\u001b[38;5;124m|\u001b[39m\u001b[38;5;124m\"\u001b[39m, gscore[i])\n\u001b[0;32m     21\u001b[0m     \u001b[38;5;28mprint\u001b[39m(bname[i], \u001b[38;5;124m\"\u001b[39m\u001b[38;5;124m|\u001b[39m\u001b[38;5;124m\"\u001b[39m, bage[i], \u001b[38;5;124m\"\u001b[39m\u001b[38;5;124m|\u001b[39m\u001b[38;5;124m\"\u001b[39m,bheight[i], \u001b[38;5;124m\"\u001b[39m\u001b[38;5;124m|\u001b[39m\u001b[38;5;124m\"\u001b[39m, bscore[i])\n",
      "\u001b[1;31mTypeError\u001b[0m: 'set' object is not subscriptable"
     ]
    }
   ],
   "source": [
    "gname = {'Samantha','Jada','Jane','Claire','Elizabeth','Mary','Susan','Waje','Taibat','Lilian'}\n",
    "\n",
    "gage = {'17','16','17','18','16','18','17','20','19','17'}\n",
    "\n",
    "gheight = {'5.5','6.0','5.4','5.9','5.6','5.5','6.1','6.0','5.7','5.5'}\n",
    "\n",
    "gscore = {'80','85','70','60','76','66','87','95','50','49'}\n",
    "\n",
    "bname = {'Charles', 'Jude','James', 'Kelvin', 'Biodun', 'Wale', 'Kunle','Matthew', 'Tom','Kayode'}\n",
    "\n",
    "bage = {'19','16', '18','17','20','19','16','18','17','19'}\n",
    "\n",
    "bheight = {'5.7','5.9','5.8','6.1','5.9','5.5','6.1','5.4','5.8','5.7'}\n",
    "\n",
    "bscore = {'74','87','75','68','66','78','87','98','54','60'}\n",
    "\n",
    "print(\"NAME |AGE |HEIGHT |SCORE\")\n",
    "\n",
    "for i in range(len(gname)):\n",
    "    print(gname[i], \"|\", gage[i], \"|\",gheight[i], \"|\", gscore[i])\n",
    "    print(bname[i], \"|\", bage[i], \"|\",bheight[i], \"|\", bscore[i])\n",
    "\n"
   ]
  },
  {
   "cell_type": "code",
   "execution_count": null,
   "id": "3f32c49a",
   "metadata": {},
   "outputs": [],
   "source": []
  },
  {
   "cell_type": "code",
   "execution_count": null,
   "id": "e703b99a",
   "metadata": {},
   "outputs": [],
   "source": []
  }
 ],
 "metadata": {
  "kernelspec": {
   "display_name": "Python 3 (ipykernel)",
   "language": "python",
   "name": "python3"
  },
  "language_info": {
   "codemirror_mode": {
    "name": "ipython",
    "version": 3
   },
   "file_extension": ".py",
   "mimetype": "text/x-python",
   "name": "python",
   "nbconvert_exporter": "python",
   "pygments_lexer": "ipython3",
   "version": "3.10.9"
  }
 },
 "nbformat": 4,
 "nbformat_minor": 5
}
