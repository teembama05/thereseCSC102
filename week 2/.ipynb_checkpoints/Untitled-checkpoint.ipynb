{
 "cells": [
  {
   "cell_type": "code",
   "execution_count": null,
   "id": "52eca4de",
   "metadata": {},
   "outputs": [],
   "source": [
    "str = input(\"Enter your state of origin:\")\n",
    "\n",
    "print (\"Your state of origin is: \", str)\n",
    "print (\"The first characters is: \", str[0])\n",
    "print (\"The characters starting from 3rd to 5th are: \", str[2:5])\n",
    "print (\"The string starting from 3rd character is: \" str[2:])\n",
    "print (\"State of origin two times\", str * 2)"
   ]
  },
  {
   "cell_type": "code",
   "execution_count": null,
   "id": "21135f34",
   "metadata": {},
   "outputs": [],
   "source": [
    "#Input from user\n",
    "m = float(input(\"Enter mass in kilograms: \"))\n",
    "\n",
    "#Constant value for the speed of light in m/s\n",
    "c = 299792458\n",
    "\n",
    "#Calculating energy using Einstein's equation\n",
    "energy = m  * c ** 2\n",
    "\n",
    "#Displaying the result\n",
    "print(f\"The energy equivalent to {m} kg of mass is {energy} joules.\")"
   ]
  },
  {
   "cell_type": "code",
   "execution_count": null,
   "id": "2c5032ef",
   "metadata": {},
   "outputs": [],
   "source": [
    "list = [ 'Anaconda', 786, 2.23, 'Jupyter', 70.2 ]\n",
    "shortlist = [321, 'Python']\n",
    "\n",
    "print(list)\n",
    "print(list[0])\n",
    "print(list[1:3])\n",
    "print(list[2:])\n",
    "print(shortlist *2)\n",
    "print(list + shortlist)"
   ]
  },
  {
   "cell_type": "code",
   "execution_count": null,
   "id": "e7c2ed95",
   "metadata": {},
   "outputs": [],
   "source": [
    "tuple = (\"Ekiti, 750\")"
   ]
  }
 ],
 "metadata": {
  "kernelspec": {
   "display_name": "Python 3 (ipykernel)",
   "language": "python",
   "name": "python3"
  },
  "language_info": {
   "codemirror_mode": {
    "name": "ipython",
    "version": 3
   },
   "file_extension": ".py",
   "mimetype": "text/x-python",
   "name": "python",
   "nbconvert_exporter": "python",
   "pygments_lexer": "ipython3",
   "version": "3.10.9"
  }
 },
 "nbformat": 4,
 "nbformat_minor": 5
}
