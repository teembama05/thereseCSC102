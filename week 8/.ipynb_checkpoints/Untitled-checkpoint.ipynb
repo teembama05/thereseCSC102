{
 "cells": [
  {
   "cell_type": "code",
   "execution_count": 4,
   "id": "64633a88",
   "metadata": {},
   "outputs": [
    {
     "name": "stdout",
     "output_type": "stream",
     "text": [
      "How many oranges would you like to buy? 77\n",
      "Your price for the amount of oranges you have requested is 19250\n",
      "Thank you for your patronage\n"
     ]
    }
   ],
   "source": [
    "#Orange application\n",
    "\n",
    "class Orange():\n",
    "    def __init__(self, number):\n",
    "        self.number = number\n",
    "    def cost(self):\n",
    "        amount = self.number*250\n",
    "        print(f\"Your price for the amount of oranges you have requested is {amount}\")\n",
    "        print(\"Thank you for your patronage\")\n",
    "    \n",
    "\n",
    "\n",
    "stock = 50\n",
    "def amount(num):\n",
    "    global num\n",
    "    num = int(input(\"How many oranges would you like to buy? \"))\n",
    "    if num >= 50:\n",
    "        return False\n",
    "    else:\n",
    "        return True\n",
    "    while amount() == False:\n",
    "        print(\"Sorry, we do not have this amount of oranges in stock for sale\")\n",
    "\n",
    "obj = Orange(num)\n",
    "obj.cost()\n",
    "        \n",
    "\n",
    "\n",
    "    "
   ]
  },
  {
   "cell_type": "code",
   "execution_count": 12,
   "id": "f8b91190",
   "metadata": {},
   "outputs": [
    {
     "name": "stdout",
     "output_type": "stream",
     "text": [
      "Enter 1 for Area of Trapezium \n",
      " Enter 2 for Area of Rhombus \n",
      " Enter 3 for Area of Parallelogram \n",
      " Enter 4 for Area of Cube \n",
      " Enter 5 for Volume of Cylinder\n",
      "What would you like to calculate?5\n",
      "Enter the value of the radius of the cylinder: 4\n",
      "Enter the value of the height of the cylinder: 5\n",
      "The volume of the Cylinder is 62.839999999999996\n"
     ]
    }
   ],
   "source": [
    "class Area():\n",
    "    def AOT(self, height, base1, base2):\n",
    "        area = (height/2)*(base1 + base2)\n",
    "        print(f\"The area of the Trapezium is {area}\")\n",
    "        \n",
    "    def AOR(self,d1, d2):\n",
    "        area =(1/2)*(d1 *d2)\n",
    "        print(f\"The area of the Rhombus is {area}\")\n",
    "        \n",
    "    def AOP(self,base, altitude):\n",
    "        area = (base * altitude)\n",
    "        print(f\"The area of the Parallelogram is {area}\")\n",
    "        \n",
    "    def AOC(self,length_of_side):\n",
    "        area = (6)*(length_of_side ** 2)\n",
    "        print(f\"The area of the Cube is {area}\")\n",
    "     #Volume of cylinder   \n",
    "    def VOC(self,radius2, height):\n",
    "        volume = (3.142)*(radius2 * height)\n",
    "        print(f\"The volume of the Cylinder is {volume}\")\n",
    "        \n",
    "print(\"Enter 1 for Area of Trapezium \\n Enter 2 for Area of Rhombus \\n Enter 3 for Area of Parallelogram \\n Enter 4 for Area of Cube \\n Enter 5 for Volume of Cylinder\")\n",
    "choice = int(input(\"What would you like to calculate?\"))\n",
    "obj = Area()\n",
    "\n",
    "if choice == 1:\n",
    "    h = int(input(\"Enter the value for the height of the Trapezium: \"))\n",
    "    b1 = int(input(\"Enter the value of the first base: \"))\n",
    "    b2 = int(input(\"Enter the value of the second base: \"))\n",
    "    obj.AOT(h,b1,b2)\n",
    "    \n",
    "elif choice == 2:\n",
    "    d1 = int(input(\"Enter the value of the first diagonal: \"))\n",
    "    d2 = int(input(\"Enter the value of the second diagonal: \"))\n",
    "    obj.AOR(d1,d2)\n",
    "    \n",
    "elif choice == 3:\n",
    "    b1 = int(input(\"Enter the value of the base: \"))\n",
    "    alt = int(input(\"Enter the value of the altitude: \"))\n",
    "    obj.AOP(b1, alt)\n",
    "    \n",
    "elif choice == 4:\n",
    "    l = int(input(\"Enter the value of the length of side: \"))\n",
    "    obj.AOC(l)\n",
    "    \n",
    "elif choice == 5:\n",
    "    r = int(input(\"Enter the value of the radius of the cylinder: \"))\n",
    "    h = int(input(\"Enter the value of the height of the cylinder: \"))\n",
    "    obj.VOC(r,h)\n",
    "    \n",
    "else:\n",
    "    print(\"Sorry this cannot be calculated using this program\")"
   ]
  },
  {
   "cell_type": "code",
   "execution_count": 13,
   "id": "f2d62f45",
   "metadata": {},
   "outputs": [],
   "source": [
    "import pandas as pd\n",
    "class Nigerian_Brewries():\n",
    "    def __init__(self,lager, stout, non_alc):\n",
    "        self.lager = lager\n",
    "        self.stout = stout\n",
    "        self.non_alc = non_alc\n",
    "        \n",
    "    def csv(self):\n",
    "        lag = pd.DataFrame(self.lager)\n",
    "        sto = pd.DataFrame(self.stout)\n",
    "        non_alc = pd.DataFrame(self.non_alc)\n",
    "        \n",
    "        with open(\"Nigerian_Brewries_ltd.csv\", \"a\") as d:\n",
    "            lag.to_csv(d, index = False)\n",
    "            sto.to_csv(d, index = False)\n",
    "            non_alc.to_csv(d, index = False)\n",
    "            \n",
    "lagerdrink = ['33Export', 'Desperado', 'Goldberg', 'Gulder', 'Heineken', 'Star']\n",
    "stoutdrink = ['Legend', 'Turbo King', 'Williams']\n",
    "non_alcoholicdrink = ['Maltina', 'Amstel Malta', 'Malta Gold', 'Fayrouz']\n",
    "\n",
    "obj = Nigerian_Brewries(lagerdrink, stoutdrink, non_alcoholicdrink)\n",
    "obj.csv()\n",
    "        "
   ]
  },
  {
   "cell_type": "code",
   "execution_count": null,
   "id": "4967ab8c",
   "metadata": {},
   "outputs": [],
   "source": []
  },
  {
   "cell_type": "code",
   "execution_count": null,
   "id": "974c4b4d",
   "metadata": {},
   "outputs": [],
   "source": []
  }
 ],
 "metadata": {
  "kernelspec": {
   "display_name": "Python 3 (ipykernel)",
   "language": "python",
   "name": "python3"
  },
  "language_info": {
   "codemirror_mode": {
    "name": "ipython",
    "version": 3
   },
   "file_extension": ".py",
   "mimetype": "text/x-python",
   "name": "python",
   "nbconvert_exporter": "python",
   "pygments_lexer": "ipython3",
   "version": "3.10.9"
  }
 },
 "nbformat": 4,
 "nbformat_minor": 5
}
