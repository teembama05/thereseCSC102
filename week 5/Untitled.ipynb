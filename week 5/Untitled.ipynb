{
 "cells": [
  {
   "cell_type": "code",
   "execution_count": 1,
   "id": "44fa02b1",
   "metadata": {},
   "outputs": [
    {
     "name": "stdout",
     "output_type": "stream",
     "text": [
      "I'm first call to user definition function!\n",
      "Again secomd call to the same function\n"
     ]
    }
   ],
   "source": [
    "def printme(str):\n",
    "    #This is a print function\n",
    "    print(str)\n",
    "    return\n",
    "printme(\"I'm first call to user definition function!\")\n",
    "printme(\"Again secomd call to the same function\")"
   ]
  },
  {
   "cell_type": "code",
   "execution_count": 4,
   "id": "87d1d908",
   "metadata": {},
   "outputs": [
    {
     "name": "stdout",
     "output_type": "stream",
     "text": [
      "Values inside the function:  [10, 20, 30, [1, 2, 3, 4]]\n",
      "Values outside the function:  [10, 20, 30, [1, 2, 3, 4]]\n"
     ]
    }
   ],
   "source": [
    "def changeme(mylist):\n",
    "    #This changes a passed list\n",
    "    mylist.append([1,2,3,4])\n",
    "    print (\"Values inside the function: \",mylist)\n",
    "    return\n",
    "mylist = [10,20,30]\n",
    "changeme(mylist)\n",
    "print (\"Values outside the function: \",mylist)\n",
    "    "
   ]
  },
  {
   "cell_type": "code",
   "execution_count": 5,
   "id": "64dfbde1",
   "metadata": {},
   "outputs": [
    {
     "name": "stdout",
     "output_type": "stream",
     "text": [
      "Values inside the function:  [1, 2, 3, 4]\n",
      "Values outside the function:  [10, 20, 30]\n"
     ]
    }
   ],
   "source": [
    "def changeme(mylist):\n",
    "    #This changes a passed list\n",
    "    mylist = [1,2,3,4]\n",
    "    print(\"Values inside the function: \",mylist)\n",
    "    return\n",
    "mylist = [10,20,30]\n",
    "changeme(mylist)\n",
    "print(\"Values outside the function: \",mylist)\n"
   ]
  },
  {
   "cell_type": "code",
   "execution_count": 8,
   "id": "0178c900",
   "metadata": {},
   "outputs": [
    {
     "name": "stdout",
     "output_type": "stream",
     "text": [
      "My name is Therese\n"
     ]
    }
   ],
   "source": [
    "def printme(str):\n",
    "    #This prints a passed string\n",
    "    print(str)\n",
    "    return\n",
    "printme(\"My name is Therese\")"
   ]
  },
  {
   "cell_type": "code",
   "execution_count": 9,
   "id": "c2c86aaa",
   "metadata": {},
   "outputs": [
    {
     "name": "stdout",
     "output_type": "stream",
     "text": [
      "My string\n"
     ]
    }
   ],
   "source": [
    "def printme(str):\n",
    "    #This prints a passed string\n",
    "    print(str)\n",
    "    return\n",
    "printme(str = \"My string\")"
   ]
  },
  {
   "cell_type": "code",
   "execution_count": 18,
   "id": "180bf56b",
   "metadata": {},
   "outputs": [
    {
     "name": "stdout",
     "output_type": "stream",
     "text": [
      "Name:  miki\n",
      "Age:  50\n"
     ]
    }
   ],
   "source": [
    "def printinfo (name, age):\n",
    "    #Test function\n",
    "    print(\"Name: \", name)\n",
    "    print(\"Age: \", age)\n",
    "    return\n",
    "printinfo( age = 50,  name =\"miki\")"
   ]
  },
  {
   "cell_type": "code",
   "execution_count": 19,
   "id": "5b82750e",
   "metadata": {},
   "outputs": [
    {
     "name": "stdout",
     "output_type": "stream",
     "text": [
      "Name:  miki\n",
      "Age:  50\n",
      "Name:  miki\n",
      "Age:  35\n"
     ]
    }
   ],
   "source": [
    "def printinfo( name, age = 35):\n",
    "    #Test function\n",
    "    print(\"Name: \",name)\n",
    "    print(\"Age: \",age)\n",
    "    return\n",
    "printinfo(age=50, name= \"miki\")\n",
    "printinfo(name = \"miki\")"
   ]
  },
  {
   "cell_type": "code",
   "execution_count": 23,
   "id": "8c837db3",
   "metadata": {},
   "outputs": [
    {
     "name": "stdout",
     "output_type": "stream",
     "text": [
      "Output is: \n",
      "10\n",
      "Output is: \n",
      "70\n",
      "60\n"
     ]
    }
   ],
   "source": [
    "def printinfo (arg1, *vartuple):\n",
    "    #This is test\n",
    "    print(\"Output is: \")\n",
    "    print(arg1)\n",
    "    for var in vartuple:\n",
    "        print(var)\n",
    "        return\n",
    "printinfo(10)\n",
    "printinfo (70,60,50)"
   ]
  },
  {
   "cell_type": "code",
   "execution_count": 30,
   "id": "781bdb36",
   "metadata": {},
   "outputs": [
    {
     "name": "stdout",
     "output_type": "stream",
     "text": [
      "Inside the function local total:  30\n",
      "Outside the function global total:  50\n"
     ]
    }
   ],
   "source": [
    "total = 50 #This is global variable.\n",
    "def sum (arg1, arg2):\n",
    "    #Add both the parameters\n",
    "    total = arg1 + arg2 \n",
    "    print(\"Inside the function local total: \", total)\n",
    "    return\n",
    "#Now you can call sum function\n",
    "sum(10,20)\n",
    "print (\"Outside the function global total: \", total)"
   ]
  },
  {
   "cell_type": "code",
   "execution_count": 28,
   "id": "a6efa070",
   "metadata": {},
   "outputs": [
    {
     "name": "stdout",
     "output_type": "stream",
     "text": [
      "Lawal Edward Tolu Tina\n",
      "Mary\n"
     ]
    }
   ],
   "source": [
    "def swap (x,y):\n",
    "    global a\n",
    "    a = \"Lawal\"\n",
    "    x,y = y,x\n",
    "    b = \"Chris\"\n",
    "    b = \"Edward\"\n",
    "    c = \"Lola\"\n",
    "    print(a,b,x,y)\n",
    "    a = \"Mary\"\n",
    "    return\n",
    "swap(\"Tina\",\"Tolu\")\n",
    "print (a)"
   ]
  }
 ],
 "metadata": {
  "kernelspec": {
   "display_name": "Python 3 (ipykernel)",
   "language": "python",
   "name": "python3"
  },
  "language_info": {
   "codemirror_mode": {
    "name": "ipython",
    "version": 3
   },
   "file_extension": ".py",
   "mimetype": "text/x-python",
   "name": "python",
   "nbconvert_exporter": "python",
   "pygments_lexer": "ipython3",
   "version": "3.10.9"
  }
 },
 "nbformat": 4,
 "nbformat_minor": 5
}
