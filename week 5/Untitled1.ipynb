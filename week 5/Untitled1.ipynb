{
 "cells": [
  {
   "cell_type": "code",
   "execution_count": null,
   "id": "9d5fcfb2",
   "metadata": {},
   "outputs": [],
   "source": []
  },
  {
   "cell_type": "code",
   "execution_count": null,
   "id": "4b0bd05b",
   "metadata": {},
   "outputs": [],
   "source": [
    "print(\"WELCOME TO YEGA SERVICES!!!\")\n",
    "\n",
    "product =str(input(\"What would you like to deliver? \"))\n",
    "weight =int(input(\"How much does it weight (in kg)? \"))\n",
    "\n",
    "if weight > 10:\n",
    "    location = str(input(\"Where would you like it to be delivered to ? \"))\n",
    "    if location == \"Ibeju-Lekki\" or \"Ibeju\" or \"ibeju\" or \"ibeju-lekki\":\n",
    "                   print(\"Your delivery costs #2000.00\")\n",
    "                   print(\"Have a nice day, Thanks for choosing us\")\n",
    "    elif location == \"Epe\" or \"epe\":\n",
    "                   print(\"Your delivery costs #5000.00\")\n",
    "                   print(\"Have a nice day, Thanks for choosing us\")\n",
    "    else:\n",
    "                   print(\"Sorry we do not deliver to that location\")\n",
    "elif weight < 10:\n",
    "    location == str(input(\"Where would you like it to be delivered to ? \"))\n",
    "    if location == \"Ibeju-Lekki\" or \"Ibeju\" or \"ibeju\" or \"ibeju-lekki\":\n",
    "                   print(\"Your delivery costs #1500.00\")\n",
    "                   print(\"Have a nice day, Thanks for choosing us\")\n",
    "    elif location == \"Epe\" or \"epe\":\n",
    "                   print(\"Your delivery costs #4000.00\")\n",
    "                   print(\"Have a nice day, Thanks for choosing us\")\n",
    "    else:\n",
    "                   print(\"Sorry we do not deliver to that location\")\n",
    "else:\n",
    "                   print(\"Sorry we do not deliver that yet \")"
   ]
  },
  {
   "cell_type": "code",
   "execution_count": null,
   "id": "5e2e6875",
   "metadata": {},
   "outputs": [],
   "source": []
  }
 ],
 "metadata": {
  "kernelspec": {
   "display_name": "Python 3 (ipykernel)",
   "language": "python",
   "name": "python3"
  },
  "language_info": {
   "codemirror_mode": {
    "name": "ipython",
    "version": 3
   },
   "file_extension": ".py",
   "mimetype": "text/x-python",
   "name": "python",
   "nbconvert_exporter": "python",
   "pygments_lexer": "ipython3",
   "version": "3.10.9"
  }
 },
 "nbformat": 4,
 "nbformat_minor": 5
}
